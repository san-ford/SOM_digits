{
 "cells": [
  {
   "cell_type": "markdown",
   "id": "886a44de",
   "metadata": {},
   "source": [
    "# Self-Organizing Maps of Handwritten Digits"
   ]
  },
  {
   "cell_type": "markdown",
   "id": "ae6d84da-fe65-43a6-b7df-c7b3e8ecb4a6",
   "metadata": {},
   "source": [
    "This is an exercise to gain familiarity with the applications and functions of self-organizing maps (SOMs). The scikit-learn package for SOMs is applied the MNIST database of handwritten digits (shown below) to visualize a reduction in dimensionality from 784 features to 2. The goal of this exercise is to explore the visualization and predictive power of the SOM algorithm."
   ]
  },
  {
   "cell_type": "code",
   "execution_count": 1,
   "id": "59c5d0d3-4319-4a95-a215-b58936522590",
   "metadata": {},
   "outputs": [],
   "source": [
    "import numpy as np\n",
    "import pandas as pd\n",
    "import matplotlib.pyplot as plt\n",
    "import matplotlib.colors as colors\n",
    "from sklearn_som.som import SOM\n",
    "from sklearn.datasets import fetch_openml"
   ]
  },
  {
   "cell_type": "code",
   "execution_count": 2,
   "id": "c93a3680-f55a-4eb3-98e1-703278ee2f60",
   "metadata": {},
   "outputs": [
    {
     "data": {
      "text/plain": [
       "dict_keys(['data', 'target', 'frame', 'categories', 'feature_names', 'target_names', 'DESCR', 'details', 'url'])"
      ]
     },
     "execution_count": 2,
     "metadata": {},
     "output_type": "execute_result"
    }
   ],
   "source": [
    "# import the data and explore it\n",
    "mnist = fetch_openml('mnist_784', version=1)\n",
    "mnist.keys()"
   ]
  },
  {
   "cell_type": "code",
   "execution_count": 3,
   "id": "fd85ec9b-55cb-440f-a9be-630b8f8ed5b5",
   "metadata": {},
   "outputs": [
    {
     "name": "stdout",
     "output_type": "stream",
     "text": [
      "**Author**: Yann LeCun, Corinna Cortes, Christopher J.C. Burges  \n",
      "**Source**: [MNIST Website](http://yann.lecun.com/exdb/mnist/) - Date unknown  \n",
      "**Please cite**:  \n",
      "\n",
      "The MNIST database of handwritten digits with 784 features, raw data available at: http://yann.lecun.com/exdb/mnist/. It can be split in a training set of the first 60,000 examples, and a test set of 10,000 examples  \n",
      "\n",
      "It is a subset of a larger set available from NIST. The digits have been size-normalized and centered in a fixed-size image. It is a good database for people who want to try learning techniques and pattern recognition methods on real-world data while spending minimal efforts on preprocessing and formatting. The original black and white (bilevel) images from NIST were size normalized to fit in a 20x20 pixel box while preserving their aspect ratio. The resulting images contain grey levels as a result of the anti-aliasing technique used by the normalization algorithm. the images were centered in a 28x28 image by computing the center of mass of the pixels, and translating the image so as to position this point at the center of the 28x28 field.  \n",
      "\n",
      "With some classification methods (particularly template-based methods, such as SVM and K-nearest neighbors), the error rate improves when the digits are centered by bounding box rather than center of mass. If you do this kind of pre-processing, you should report it in your publications. The MNIST database was constructed from NIST's NIST originally designated SD-3 as their training set and SD-1 as their test set. However, SD-3 is much cleaner and easier to recognize than SD-1. The reason for this can be found on the fact that SD-3 was collected among Census Bureau employees, while SD-1 was collected among high-school students. Drawing sensible conclusions from learning experiments requires that the result be independent of the choice of training set and test among the complete set of samples. Therefore it was necessary to build a new database by mixing NIST's datasets.  \n",
      "\n",
      "The MNIST training set is composed of 30,000 patterns from SD-3 and 30,000 patterns from SD-1. Our test set was composed of 5,000 patterns from SD-3 and 5,000 patterns from SD-1. The 60,000 pattern training set contained examples from approximately 250 writers. We made sure that the sets of writers of the training set and test set were disjoint. SD-1 contains 58,527 digit images written by 500 different writers. In contrast to SD-3, where blocks of data from each writer appeared in sequence, the data in SD-1 is scrambled. Writer identities for SD-1 is available and we used this information to unscramble the writers. We then split SD-1 in two: characters written by the first 250 writers went into our new training set. The remaining 250 writers were placed in our test set. Thus we had two sets with nearly 30,000 examples each. The new training set was completed with enough examples from SD-3, starting at pattern # 0, to make a full set of 60,000 training patterns. Similarly, the new test set was completed with SD-3 examples starting at pattern # 35,000 to make a full set with 60,000 test patterns. Only a subset of 10,000 test images (5,000 from SD-1 and 5,000 from SD-3) is available on this site. The full 60,000 sample training set is available.\n",
      "\n",
      "Downloaded from openml.org.\n"
     ]
    }
   ],
   "source": [
    "print(mnist['DESCR'])"
   ]
  },
  {
   "cell_type": "code",
   "execution_count": 4,
   "id": "6776c70c-78de-4621-ace0-d4a8251f4ecf",
   "metadata": {},
   "outputs": [
    {
     "data": {
      "text/html": [
       "<div>\n",
       "<style scoped>\n",
       "    .dataframe tbody tr th:only-of-type {\n",
       "        vertical-align: middle;\n",
       "    }\n",
       "\n",
       "    .dataframe tbody tr th {\n",
       "        vertical-align: top;\n",
       "    }\n",
       "\n",
       "    .dataframe thead th {\n",
       "        text-align: right;\n",
       "    }\n",
       "</style>\n",
       "<table border=\"1\" class=\"dataframe\">\n",
       "  <thead>\n",
       "    <tr style=\"text-align: right;\">\n",
       "      <th></th>\n",
       "      <th>pixel1</th>\n",
       "      <th>pixel2</th>\n",
       "      <th>pixel3</th>\n",
       "      <th>pixel4</th>\n",
       "      <th>pixel5</th>\n",
       "      <th>pixel6</th>\n",
       "      <th>pixel7</th>\n",
       "      <th>pixel8</th>\n",
       "      <th>pixel9</th>\n",
       "      <th>pixel10</th>\n",
       "      <th>...</th>\n",
       "      <th>pixel775</th>\n",
       "      <th>pixel776</th>\n",
       "      <th>pixel777</th>\n",
       "      <th>pixel778</th>\n",
       "      <th>pixel779</th>\n",
       "      <th>pixel780</th>\n",
       "      <th>pixel781</th>\n",
       "      <th>pixel782</th>\n",
       "      <th>pixel783</th>\n",
       "      <th>pixel784</th>\n",
       "    </tr>\n",
       "  </thead>\n",
       "  <tbody>\n",
       "    <tr>\n",
       "      <th>0</th>\n",
       "      <td>0</td>\n",
       "      <td>0</td>\n",
       "      <td>0</td>\n",
       "      <td>0</td>\n",
       "      <td>0</td>\n",
       "      <td>0</td>\n",
       "      <td>0</td>\n",
       "      <td>0</td>\n",
       "      <td>0</td>\n",
       "      <td>0</td>\n",
       "      <td>...</td>\n",
       "      <td>0</td>\n",
       "      <td>0</td>\n",
       "      <td>0</td>\n",
       "      <td>0</td>\n",
       "      <td>0</td>\n",
       "      <td>0</td>\n",
       "      <td>0</td>\n",
       "      <td>0</td>\n",
       "      <td>0</td>\n",
       "      <td>0</td>\n",
       "    </tr>\n",
       "    <tr>\n",
       "      <th>1</th>\n",
       "      <td>0</td>\n",
       "      <td>0</td>\n",
       "      <td>0</td>\n",
       "      <td>0</td>\n",
       "      <td>0</td>\n",
       "      <td>0</td>\n",
       "      <td>0</td>\n",
       "      <td>0</td>\n",
       "      <td>0</td>\n",
       "      <td>0</td>\n",
       "      <td>...</td>\n",
       "      <td>0</td>\n",
       "      <td>0</td>\n",
       "      <td>0</td>\n",
       "      <td>0</td>\n",
       "      <td>0</td>\n",
       "      <td>0</td>\n",
       "      <td>0</td>\n",
       "      <td>0</td>\n",
       "      <td>0</td>\n",
       "      <td>0</td>\n",
       "    </tr>\n",
       "    <tr>\n",
       "      <th>2</th>\n",
       "      <td>0</td>\n",
       "      <td>0</td>\n",
       "      <td>0</td>\n",
       "      <td>0</td>\n",
       "      <td>0</td>\n",
       "      <td>0</td>\n",
       "      <td>0</td>\n",
       "      <td>0</td>\n",
       "      <td>0</td>\n",
       "      <td>0</td>\n",
       "      <td>...</td>\n",
       "      <td>0</td>\n",
       "      <td>0</td>\n",
       "      <td>0</td>\n",
       "      <td>0</td>\n",
       "      <td>0</td>\n",
       "      <td>0</td>\n",
       "      <td>0</td>\n",
       "      <td>0</td>\n",
       "      <td>0</td>\n",
       "      <td>0</td>\n",
       "    </tr>\n",
       "    <tr>\n",
       "      <th>3</th>\n",
       "      <td>0</td>\n",
       "      <td>0</td>\n",
       "      <td>0</td>\n",
       "      <td>0</td>\n",
       "      <td>0</td>\n",
       "      <td>0</td>\n",
       "      <td>0</td>\n",
       "      <td>0</td>\n",
       "      <td>0</td>\n",
       "      <td>0</td>\n",
       "      <td>...</td>\n",
       "      <td>0</td>\n",
       "      <td>0</td>\n",
       "      <td>0</td>\n",
       "      <td>0</td>\n",
       "      <td>0</td>\n",
       "      <td>0</td>\n",
       "      <td>0</td>\n",
       "      <td>0</td>\n",
       "      <td>0</td>\n",
       "      <td>0</td>\n",
       "    </tr>\n",
       "    <tr>\n",
       "      <th>4</th>\n",
       "      <td>0</td>\n",
       "      <td>0</td>\n",
       "      <td>0</td>\n",
       "      <td>0</td>\n",
       "      <td>0</td>\n",
       "      <td>0</td>\n",
       "      <td>0</td>\n",
       "      <td>0</td>\n",
       "      <td>0</td>\n",
       "      <td>0</td>\n",
       "      <td>...</td>\n",
       "      <td>0</td>\n",
       "      <td>0</td>\n",
       "      <td>0</td>\n",
       "      <td>0</td>\n",
       "      <td>0</td>\n",
       "      <td>0</td>\n",
       "      <td>0</td>\n",
       "      <td>0</td>\n",
       "      <td>0</td>\n",
       "      <td>0</td>\n",
       "    </tr>\n",
       "    <tr>\n",
       "      <th>...</th>\n",
       "      <td>...</td>\n",
       "      <td>...</td>\n",
       "      <td>...</td>\n",
       "      <td>...</td>\n",
       "      <td>...</td>\n",
       "      <td>...</td>\n",
       "      <td>...</td>\n",
       "      <td>...</td>\n",
       "      <td>...</td>\n",
       "      <td>...</td>\n",
       "      <td>...</td>\n",
       "      <td>...</td>\n",
       "      <td>...</td>\n",
       "      <td>...</td>\n",
       "      <td>...</td>\n",
       "      <td>...</td>\n",
       "      <td>...</td>\n",
       "      <td>...</td>\n",
       "      <td>...</td>\n",
       "      <td>...</td>\n",
       "      <td>...</td>\n",
       "    </tr>\n",
       "    <tr>\n",
       "      <th>69995</th>\n",
       "      <td>0</td>\n",
       "      <td>0</td>\n",
       "      <td>0</td>\n",
       "      <td>0</td>\n",
       "      <td>0</td>\n",
       "      <td>0</td>\n",
       "      <td>0</td>\n",
       "      <td>0</td>\n",
       "      <td>0</td>\n",
       "      <td>0</td>\n",
       "      <td>...</td>\n",
       "      <td>0</td>\n",
       "      <td>0</td>\n",
       "      <td>0</td>\n",
       "      <td>0</td>\n",
       "      <td>0</td>\n",
       "      <td>0</td>\n",
       "      <td>0</td>\n",
       "      <td>0</td>\n",
       "      <td>0</td>\n",
       "      <td>0</td>\n",
       "    </tr>\n",
       "    <tr>\n",
       "      <th>69996</th>\n",
       "      <td>0</td>\n",
       "      <td>0</td>\n",
       "      <td>0</td>\n",
       "      <td>0</td>\n",
       "      <td>0</td>\n",
       "      <td>0</td>\n",
       "      <td>0</td>\n",
       "      <td>0</td>\n",
       "      <td>0</td>\n",
       "      <td>0</td>\n",
       "      <td>...</td>\n",
       "      <td>0</td>\n",
       "      <td>0</td>\n",
       "      <td>0</td>\n",
       "      <td>0</td>\n",
       "      <td>0</td>\n",
       "      <td>0</td>\n",
       "      <td>0</td>\n",
       "      <td>0</td>\n",
       "      <td>0</td>\n",
       "      <td>0</td>\n",
       "    </tr>\n",
       "    <tr>\n",
       "      <th>69997</th>\n",
       "      <td>0</td>\n",
       "      <td>0</td>\n",
       "      <td>0</td>\n",
       "      <td>0</td>\n",
       "      <td>0</td>\n",
       "      <td>0</td>\n",
       "      <td>0</td>\n",
       "      <td>0</td>\n",
       "      <td>0</td>\n",
       "      <td>0</td>\n",
       "      <td>...</td>\n",
       "      <td>0</td>\n",
       "      <td>0</td>\n",
       "      <td>0</td>\n",
       "      <td>0</td>\n",
       "      <td>0</td>\n",
       "      <td>0</td>\n",
       "      <td>0</td>\n",
       "      <td>0</td>\n",
       "      <td>0</td>\n",
       "      <td>0</td>\n",
       "    </tr>\n",
       "    <tr>\n",
       "      <th>69998</th>\n",
       "      <td>0</td>\n",
       "      <td>0</td>\n",
       "      <td>0</td>\n",
       "      <td>0</td>\n",
       "      <td>0</td>\n",
       "      <td>0</td>\n",
       "      <td>0</td>\n",
       "      <td>0</td>\n",
       "      <td>0</td>\n",
       "      <td>0</td>\n",
       "      <td>...</td>\n",
       "      <td>0</td>\n",
       "      <td>0</td>\n",
       "      <td>0</td>\n",
       "      <td>0</td>\n",
       "      <td>0</td>\n",
       "      <td>0</td>\n",
       "      <td>0</td>\n",
       "      <td>0</td>\n",
       "      <td>0</td>\n",
       "      <td>0</td>\n",
       "    </tr>\n",
       "    <tr>\n",
       "      <th>69999</th>\n",
       "      <td>0</td>\n",
       "      <td>0</td>\n",
       "      <td>0</td>\n",
       "      <td>0</td>\n",
       "      <td>0</td>\n",
       "      <td>0</td>\n",
       "      <td>0</td>\n",
       "      <td>0</td>\n",
       "      <td>0</td>\n",
       "      <td>0</td>\n",
       "      <td>...</td>\n",
       "      <td>0</td>\n",
       "      <td>0</td>\n",
       "      <td>0</td>\n",
       "      <td>0</td>\n",
       "      <td>0</td>\n",
       "      <td>0</td>\n",
       "      <td>0</td>\n",
       "      <td>0</td>\n",
       "      <td>0</td>\n",
       "      <td>0</td>\n",
       "    </tr>\n",
       "  </tbody>\n",
       "</table>\n",
       "<p>70000 rows × 784 columns</p>\n",
       "</div>"
      ],
      "text/plain": [
       "       pixel1  pixel2  pixel3  pixel4  pixel5  pixel6  pixel7  pixel8  pixel9  \\\n",
       "0           0       0       0       0       0       0       0       0       0   \n",
       "1           0       0       0       0       0       0       0       0       0   \n",
       "2           0       0       0       0       0       0       0       0       0   \n",
       "3           0       0       0       0       0       0       0       0       0   \n",
       "4           0       0       0       0       0       0       0       0       0   \n",
       "...       ...     ...     ...     ...     ...     ...     ...     ...     ...   \n",
       "69995       0       0       0       0       0       0       0       0       0   \n",
       "69996       0       0       0       0       0       0       0       0       0   \n",
       "69997       0       0       0       0       0       0       0       0       0   \n",
       "69998       0       0       0       0       0       0       0       0       0   \n",
       "69999       0       0       0       0       0       0       0       0       0   \n",
       "\n",
       "       pixel10  ...  pixel775  pixel776  pixel777  pixel778  pixel779  \\\n",
       "0            0  ...         0         0         0         0         0   \n",
       "1            0  ...         0         0         0         0         0   \n",
       "2            0  ...         0         0         0         0         0   \n",
       "3            0  ...         0         0         0         0         0   \n",
       "4            0  ...         0         0         0         0         0   \n",
       "...        ...  ...       ...       ...       ...       ...       ...   \n",
       "69995        0  ...         0         0         0         0         0   \n",
       "69996        0  ...         0         0         0         0         0   \n",
       "69997        0  ...         0         0         0         0         0   \n",
       "69998        0  ...         0         0         0         0         0   \n",
       "69999        0  ...         0         0         0         0         0   \n",
       "\n",
       "       pixel780  pixel781  pixel782  pixel783  pixel784  \n",
       "0             0         0         0         0         0  \n",
       "1             0         0         0         0         0  \n",
       "2             0         0         0         0         0  \n",
       "3             0         0         0         0         0  \n",
       "4             0         0         0         0         0  \n",
       "...         ...       ...       ...       ...       ...  \n",
       "69995         0         0         0         0         0  \n",
       "69996         0         0         0         0         0  \n",
       "69997         0         0         0         0         0  \n",
       "69998         0         0         0         0         0  \n",
       "69999         0         0         0         0         0  \n",
       "\n",
       "[70000 rows x 784 columns]"
      ]
     },
     "execution_count": 4,
     "metadata": {},
     "output_type": "execute_result"
    }
   ],
   "source": [
    "data = mnist['data']\n",
    "data"
   ]
  },
  {
   "cell_type": "markdown",
   "id": "ef3c7f52-5427-4d92-a465-a59496487aef",
   "metadata": {},
   "source": [
    "Here, we see that there are 70,000 data points (as mentioned in the description) across 784 dimensions (one dimension for each pixel of a 28x28 image). We can take the suggestion from the author and separate this data set into 6 parts for training to 1 part for testing. We will start with 6,000 training data points to 1,000 testing data points."
   ]
  },
  {
   "cell_type": "code",
   "execution_count": 5,
   "id": "d2235533-b3f3-4b02-9c27-9e514f5e0d2c",
   "metadata": {},
   "outputs": [
    {
     "name": "stdout",
     "output_type": "stream",
     "text": [
      "Training data set length: 6000\n",
      "Testing data set length: 1000\n"
     ]
    }
   ],
   "source": [
    "train = np.array(data[:6000])\n",
    "test = np.array(data[6000:7000])\n",
    "print(\"Training data set length:\", len(train))\n",
    "print(\"Testing data set length:\", len(test))"
   ]
  },
  {
   "cell_type": "markdown",
   "id": "a09baf88-b291-44db-a864-1ae78b3bd37c",
   "metadata": {},
   "source": [
    "Examining the 'target' key in the data set shows us an array of integers (as character types) that label the data with the target of the handwritten numbers. The 'target' array and the 'data' array are matched by indices."
   ]
  },
  {
   "cell_type": "code",
   "execution_count": 6,
   "id": "39ed8400-c860-4748-a7ac-63181aebb6cf",
   "metadata": {},
   "outputs": [
    {
     "data": {
      "text/plain": [
       "0        5\n",
       "1        0\n",
       "2        4\n",
       "3        1\n",
       "4        9\n",
       "        ..\n",
       "69995    2\n",
       "69996    3\n",
       "69997    4\n",
       "69998    5\n",
       "69999    6\n",
       "Name: class, Length: 70000, dtype: category\n",
       "Categories (10, object): ['0', '1', '2', '3', ..., '6', '7', '8', '9']"
      ]
     },
     "execution_count": 6,
     "metadata": {},
     "output_type": "execute_result"
    }
   ],
   "source": [
    "mnist['target']"
   ]
  },
  {
   "cell_type": "markdown",
   "id": "21e41b1c-0d75-4f75-99ef-a3e6ed8edf44",
   "metadata": {},
   "source": [
    "Since we separated the data into a training and testing data set, we should also separate the target data."
   ]
  },
  {
   "cell_type": "code",
   "execution_count": 7,
   "id": "2506558b-1317-4c8d-ab42-bc51f6c36102",
   "metadata": {},
   "outputs": [
    {
     "name": "stdout",
     "output_type": "stream",
     "text": [
      "Training target data set length: 6000\n",
      "Testing target data set length: 1000\n"
     ]
    }
   ],
   "source": [
    "train_target = np.array(mnist['target'][:6000])\n",
    "test_target = np.array(mnist['target'][6000:7000])\n",
    "print(\"Training target data set length:\", len(train_target))\n",
    "print(\"Testing target data set length:\", len(test_target))"
   ]
  },
  {
   "cell_type": "markdown",
   "id": "b1f565f9-f4d2-4a3e-959e-b769f4e4045f",
   "metadata": {},
   "source": [
    "Now we will create an SOM object with a 10x10 output grid and 784 dimensional input. Then we will fit the training data to the SOM model, transform it, and predict a class for each data point. Because SOMs are unsupervised machine learning algorithms, the classes are unlabeled. Since this SOM uses a fixed grid, there are 100 classes to which each point is assigned."
   ]
  },
  {
   "cell_type": "code",
   "execution_count": 8,
   "id": "41edbfe5-e31f-46be-9a2a-c81633c074a5",
   "metadata": {},
   "outputs": [],
   "source": [
    "digit_som = SOM(m=10, n=10, dim=784)\n",
    "digit_som.fit(train)"
   ]
  },
  {
   "cell_type": "code",
   "execution_count": 9,
   "id": "590eb660-cf21-4794-bed7-f6d4416df433",
   "metadata": {},
   "outputs": [],
   "source": [
    "digit_map = digit_som.transform(train)"
   ]
  },
  {
   "cell_type": "code",
   "execution_count": 10,
   "id": "04972e4d-1e41-4651-b950-44cf61fa1c9b",
   "metadata": {},
   "outputs": [],
   "source": [
    "digit_prediction = digit_som.predict(train)"
   ]
  },
  {
   "cell_type": "markdown",
   "id": "994f47cd-3e52-4e28-b7f8-ad403c358d02",
   "metadata": {},
   "source": [
    "To label the classes after they have been organized by the algorithm, we can inspect each of the 100 classes and find the corresponding labels in the training data. Then we can assign the most commonly occuring label to the class. There are a total of 10 labels, so each of the 100 classes defined by the algorithm will be assigned 1 of the 10 labels."
   ]
  },
  {
   "cell_type": "code",
   "execution_count": 11,
   "id": "a39265fd-9551-45c9-a26e-50c69b48e56c",
   "metadata": {},
   "outputs": [],
   "source": [
    "# find the target values for each of the 100 predicted values\n",
    "class_labels = []\n",
    "for i in range(100):\n",
    "    som_predicition_list = {}\n",
    "    for j in train_target[digit_prediction == i]:\n",
    "        if j not in som_predicition_list:\n",
    "            som_predicition_list[j] = 0\n",
    "        som_predicition_list[j] += 1\n",
    "    # assign the predicted label by finding the mode of the predicted values\n",
    "    class_labels.append(int(max(som_predicition_list, key=som_predicition_list.get)))"
   ]
  },
  {
   "cell_type": "markdown",
   "id": "3d8f86ea-9153-4e8e-b938-36dc12a06703",
   "metadata": {},
   "source": [
    "To visualize how the data was organized, we can map the 100 classes in a 10x10 grid, then choose 1 of 10 colors for each of the 10 labels. We should expect to see several adjacent grid points with the same color forming labeled regions on the map."
   ]
  },
  {
   "cell_type": "code",
   "execution_count": 12,
   "id": "125c569e-b683-4efb-b43b-7619574cbbd1",
   "metadata": {},
   "outputs": [
    {
     "data": {
      "text/plain": [
       "<matplotlib.collections.QuadMesh at 0x121c1b980>"
      ]
     },
     "execution_count": 12,
     "metadata": {},
     "output_type": "execute_result"
    },
    {
     "data": {
      "image/png": "[encoded data removed]",
      "text/plain": [
       "<Figure size 640x480 with 1 Axes>"
      ]
     },
     "metadata": {},
     "output_type": "display_data"
    }
   ],
   "source": [
    "# create grid coordinates and colors to represent each of the 10 labels\n",
    "x, y = np.meshgrid(np.arange(11), np.arange(11))\n",
    "z = np.array(class_labels).reshape(10, 10)\n",
    "custom_colors = ['red', 'green', 'blue', 'yellow', 'magenta',\n",
    "                 'orange', 'cyan', 'brown', 'black', 'pink']\n",
    "\n",
    "# assign the colors to the predicted labels and plot\n",
    "fig, ax = plt.subplots()\n",
    "cmap = colors.LinearSegmentedColormap.from_list(\"\", custom_colors)\n",
    "ax.pcolormesh(x, y, z, cmap=cmap)"
   ]
  },
  {
   "cell_type": "markdown",
   "id": "424aa6b6-52e7-4473-9c45-26e1fc5572ea",
   "metadata": {},
   "source": [
    "The handwritten digits are represented in the map by colors from the custom color map in order:\n",
    "\n",
    "- Red: 0\n",
    "- Green: 1\n",
    "- Blue: 2\n",
    "- Yellow: 3\n",
    "- Magenta: 4\n",
    "- Orange: 5\n",
    "- Cyan: 6\n",
    "- Brown: 7\n",
    "- Black: 8\n",
    "- Pink: 9\n",
    "\n",
    "Now that we have labels for each class, we can measure the accuracy of the labels by comparing the class assigned to each data point (and associated label) to their actual labels. We'll start by assessing the accuracy of the representation of the test data."
   ]
  },
  {
   "cell_type": "code",
   "execution_count": 13,
   "id": "545930c9-ffda-4441-a555-951fac33363e",
   "metadata": {},
   "outputs": [
    {
     "name": "stdout",
     "output_type": "stream",
     "text": [
      "79.05% of test data accurately represented\n"
     ]
    }
   ],
   "source": [
    "count = 0\n",
    "for i in range(len(digit_prediction)):\n",
    "    if int(train_target[i]) == class_labels[digit_prediction[i]]:\n",
    "        count += 1\n",
    "print(\"{}% of test data accurately represented\".format(count*100 / len(digit_prediction)))"
   ]
  },
  {
   "cell_type": "markdown",
   "id": "729633db-9146-49ee-b819-5a91c03c36e8",
   "metadata": {},
   "source": [
    "Now we will use the test data to assess the accuracy of the self-organization."
   ]
  },
  {
   "cell_type": "code",
   "execution_count": 14,
   "id": "4e7daf40-6f74-4ee0-b60a-01f47a5c843e",
   "metadata": {},
   "outputs": [
    {
     "name": "stdout",
     "output_type": "stream",
     "text": [
      "80.7% of test data accurately represented\n"
     ]
    }
   ],
   "source": [
    "# make predictions on test data\n",
    "digit_prediction = digit_som.predict(test)\n",
    "\n",
    "# count accurate predictions\n",
    "count = 0\n",
    "for i in range(len(digit_prediction)):\n",
    "    if int(test_target[i]) == class_labels[digit_prediction[i]]:\n",
    "        count += 1\n",
    "print(\"{}% of test data accurately represented\".format(count*100 / len(digit_prediction)))"
   ]
  },
  {
   "cell_type": "markdown",
   "id": "b6744023-816b-446f-9b51-696cd2c72868",
   "metadata": {},
   "source": [
    "So with this method, we see that the algorithm categorizes the input data fairly accurately, but there is room for improvement. Let's see if a larger grid increases accuracy."
   ]
  },
  {
   "cell_type": "code",
   "execution_count": 15,
   "id": "816aeb79-4e55-4019-a11d-152bc5255dc9",
   "metadata": {},
   "outputs": [],
   "source": [
    "digit_som = SOM(m=15, n=15, dim=784)\n",
    "digit_som.fit(train)"
   ]
  },
  {
   "cell_type": "code",
   "execution_count": 16,
   "id": "2a476a53-c9b0-4632-942d-d4355d109692",
   "metadata": {},
   "outputs": [],
   "source": [
    "digit_map = digit_som.transform(train)"
   ]
  },
  {
   "cell_type": "code",
   "execution_count": 17,
   "id": "4869d6a5-c636-4b99-8642-8e9cbd887653",
   "metadata": {},
   "outputs": [],
   "source": [
    "digit_prediction = digit_som.predict(train)"
   ]
  },
  {
   "cell_type": "markdown",
   "id": "67c51463-322a-4d15-b738-8bc94739d501",
   "metadata": {},
   "source": [
    "With a larger grid, we will start to see some empty cells, so we will assign a new label for empty cells and color them white in the grid."
   ]
  },
  {
   "cell_type": "code",
   "execution_count": 18,
   "id": "b2c1e693-7a48-4820-a44c-aca09a3dc437",
   "metadata": {},
   "outputs": [],
   "source": [
    "# find the target values for each of the 100 predicted values\n",
    "class_labels = []\n",
    "for i in range(225):\n",
    "    som_predicition_list = {}\n",
    "    if len(train_target[digit_prediction == i]) == 0:\n",
    "        class_labels.append(10)\n",
    "        continue\n",
    "    for j in train_target[digit_prediction == i]:\n",
    "        if j not in som_predicition_list:\n",
    "            som_predicition_list[j] = 0\n",
    "        som_predicition_list[j] += 1\n",
    "    # assign the predicted label by finding the mode of the predicted values\n",
    "    class_labels.append(int(max(som_predicition_list, key=som_predicition_list.get)))"
   ]
  },
  {
   "cell_type": "code",
   "execution_count": 19,
   "id": "8cb2924f-f68b-42c0-bf1f-6bdf02e98d2a",
   "metadata": {},
   "outputs": [
    {
     "data": {
      "text/plain": [
       "<matplotlib.collections.QuadMesh at 0x129078650>"
      ]
     },
     "execution_count": 19,
     "metadata": {},
     "output_type": "execute_result"
    },
    {
     "data": {
      "image/png": "[encoded data removed]",
      "text/plain": [
       "<Figure size 640x480 with 1 Axes>"
      ]
     },
     "metadata": {},
     "output_type": "display_data"
    }
   ],
   "source": [
    "# create grid coordinates and colors to represent each of the 10 labels\n",
    "x, y = np.meshgrid(np.arange(16), np.arange(16))\n",
    "z = np.array(class_labels).reshape(15, 15)\n",
    "custom_colors = ['red', 'green', 'blue', 'yellow',\n",
    "                 'magenta', 'orange', 'cyan', 'brown',\n",
    "                 'black', 'pink', 'white']\n",
    "\n",
    "# assign the colors to the predicted labels and plot\n",
    "fig, ax = plt.subplots()\n",
    "cmap = colors.LinearSegmentedColormap.from_list(\"\", custom_colors)\n",
    "ax.pcolormesh(x, y, z, cmap=cmap)"
   ]
  },
  {
   "cell_type": "markdown",
   "id": "ef85258c-8989-4377-b9d7-e8f00964b4ee",
   "metadata": {},
   "source": [
    "The handwritten digits are represented in the map by colors from the custom color map in order:\n",
    "\n",
    "- Red: 0\n",
    "- Green: 1\n",
    "- Blue: 2\n",
    "- Yellow: 3\n",
    "- Magenta: 4\n",
    "- Orange: 5\n",
    "- Cyan: 6\n",
    "- Brown: 7\n",
    "- Black: 8\n",
    "- Pink: 9\n",
    "- White: Empty cells\n",
    "\n",
    "Now we will assess the accuracy of this larger map."
   ]
  },
  {
   "cell_type": "code",
   "execution_count": 20,
   "id": "bae7c81f-6c16-440d-b753-2abce6af706d",
   "metadata": {},
   "outputs": [
    {
     "name": "stdout",
     "output_type": "stream",
     "text": [
      "81.8% of test data accurately represented\n"
     ]
    }
   ],
   "source": [
    "count = 0\n",
    "for i in range(len(digit_prediction)):\n",
    "    if int(train_target[i]) == class_labels[digit_prediction[i]]:\n",
    "        count += 1\n",
    "print(\"{}% of test data accurately represented\".format(count*100 / len(digit_prediction)))"
   ]
  },
  {
   "cell_type": "code",
   "execution_count": 21,
   "id": "9e871eb9-430e-4d6b-8fcd-c462ed9e02cf",
   "metadata": {},
   "outputs": [
    {
     "name": "stdout",
     "output_type": "stream",
     "text": [
      "80.1% accuracy\n"
     ]
    }
   ],
   "source": [
    "# make predictions on test data\n",
    "digit_prediction = digit_som.predict(test)\n",
    "\n",
    "# count accurate predictions\n",
    "count = 0\n",
    "for i in range(len(digit_prediction)):\n",
    "    if int(test_target[i]) == class_labels[digit_prediction[i]]:\n",
    "        count += 1\n",
    "print(\"{}% accuracy\".format(count*100 / len(digit_prediction)))"
   ]
  },
  {
   "cell_type": "markdown",
   "id": "f782fc80-9dbb-4cd3-8e60-5a03b1a9c727",
   "metadata": {},
   "source": [
    "So we can see in this inctance that a larger grid does not lead to more accurate results."
   ]
  },
  {
   "cell_type": "code",
   "execution_count": null,
   "id": "9e17b299-e4ae-4c04-945b-8a2150489a05",
   "metadata": {},
   "outputs": [],
   "source": []
  }
 ],
 "metadata": {
  "kernelspec": {
   "display_name": "Python 3 (ipykernel)",
   "language": "python",
   "name": "python3"
  },
  "language_info": {
   "codemirror_mode": {
    "name": "ipython",
    "version": 3
   },
   "file_extension": ".py",
   "mimetype": "text/x-python",
   "name": "python",
   "nbconvert_exporter": "python",
   "pygments_lexer": "ipython3",
   "version": "3.12.6"
  }
 },
 "nbformat": 4,
 "nbformat_minor": 5
}
